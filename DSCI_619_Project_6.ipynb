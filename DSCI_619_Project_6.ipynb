{
  "nbformat": 4,
  "nbformat_minor": 0,
  "metadata": {
    "colab": {
      "name": "DSCI 619 Project 6.ipynb",
      "provenance": [],
      "authorship_tag": "ABX9TyMS9uDFRfvhJFBVXxrjY0Eb",
      "include_colab_link": true
    },
    "kernelspec": {
      "name": "python3",
      "display_name": "Python 3"
    },
    "language_info": {
      "name": "python"
    }
  },
  "cells": [
    {
      "cell_type": "markdown",
      "metadata": {
        "id": "view-in-github",
        "colab_type": "text"
      },
      "source": [
        "<a href=\"https://colab.research.google.com/github/flaghunter21/DSCI-619-Deep-Learning/blob/main/DSCI_619_Project_6.ipynb\" target=\"_parent\"><img src=\"https://colab.research.google.com/assets/colab-badge.svg\" alt=\"Open In Colab\"/></a>"
      ]
    },
    {
      "cell_type": "markdown",
      "source": [
        "# DSCI 619 Project 6\n",
        "## Language Translation with sequence to sequence model using RNN\n",
        "\n",
        "We will develop a sequence to sequence model using RNN to translate English to German. \n",
        "\n",
        "Data Source: [Tab-delimited Bilingual Sentence Pairs](http://www.manythings.org/anki/)\n",
        "\n",
        "Information on Sequence to Sequence learning in Keras can be found here: \n",
        "\n",
        "[Ten Minute Introduction to sequence to sequence learning in Keras](https://blog.keras.io/a-ten-minute-introduction-to-sequence-to-sequence-learning-in-keras.html)\n",
        "\n",
        "[Character-level Recurrent Sequence to Sequence Model](https://keras.io/examples/nlp/lstm_seq2seq/)"
      ],
      "metadata": {
        "id": "SCC0lNQ9Kz2F"
      }
    },
    {
      "cell_type": "markdown",
      "source": [
        "## Import Data"
      ],
      "metadata": {
        "id": "2klpIHDLNgHn"
      }
    },
    {
      "cell_type": "code",
      "execution_count": 1,
      "metadata": {
        "id": "t8ljSSo1uUf9"
      },
      "outputs": [],
      "source": [
        "import os\n",
        "import random\n",
        "import numpy as np\n",
        "import tensorflow as tf\n",
        "from tensorflow import keras\n",
        "\n",
        "# Fix seeds\n",
        "seed = 101\n",
        "os.environ['PYTHONHASHSEED'] = str(seed)\n",
        "os.environ['TF_CUDNN_DETERMINISTIC'] = '1'\n",
        "random.seed(seed)\n",
        "np.random.seed(seed)\n",
        "tf.random.set_seed(seed)"
      ]
    },
    {
      "cell_type": "markdown",
      "source": [
        "Our data is taken from the [Tatoeba Project](https://tatoeba.org/en) which provides tab-delimited bilingual sentence pairs. The data has the following format:\n",
        "\n",
        "English + TAB + Other Language + TAB + Attribution\n",
        "\n",
        "An example of the data is as follows:\n",
        "\n",
        "Go.\tGeh.\tCC-BY 2.0 (France) Attribution: tatoeba.org #2877272 (CM) & #8597805 (Roujin)\n",
        "\n",
        "Hi.\tHallo!\tCC-BY 2.0 (France) Attribution: tatoeba.org #538123 (CM) & #380701 (cburgmer)"
      ],
      "metadata": {
        "id": "tDvUZpGHOClz"
      }
    },
    {
      "cell_type": "markdown",
      "source": [
        "## Set Model Hyperparameters"
      ],
      "metadata": {
        "id": "Ax19Red5PLM4"
      }
    },
    {
      "cell_type": "code",
      "source": [
        "batch_size = 64 # Batch size training\n",
        "epochs = 100 # Epochs training\n",
        "latent_dim = 256 # Latent dimensionality of encoding space\n",
        "num_samples = 10000 # Number of samples\n",
        "data_path = 'deu-eng.txt'"
      ],
      "metadata": {
        "id": "5BQsdbd0OmQg"
      },
      "execution_count": 2,
      "outputs": []
    },
    {
      "cell_type": "markdown",
      "source": [
        "## Prepare the Data\n",
        "\n",
        "Each row contains input text and target text. We need to seperate them as such. We also find each unique character in the input text and target text. This is what our model will use to make predictions. "
      ],
      "metadata": {
        "id": "BnqYFIBJQ6nt"
      }
    },
    {
      "cell_type": "code",
      "source": [
        "# Obtain input and target\n",
        "input_texts = []\n",
        "target_texts = []\n",
        "# Unique characters\n",
        "input_characters = set()\n",
        "target_characters = set()\n",
        "# Load data\n",
        "with open(data_path, \"r\", encoding=\"utf-8\") as f:\n",
        "  lines = f.read().split(\"\\n\")\n",
        "# Process data line by line\n",
        "for line in lines[: min(num_samples, len(lines)-1)]:\n",
        "  # We discard the Attribution\n",
        "  input_text, target_text, _ = line.split(\"\\t\")\n",
        "  # Tab is the start sequence character and newline is the end sequence character\n",
        "  target_text = \"\\t\" + target_text + \"\\n\"\n",
        "  # Append text to our empty lists\n",
        "  input_texts.append(input_text)\n",
        "  target_texts.append(target_text)\n",
        "  # Get unique characters from input text\n",
        "  for char in input_text:\n",
        "    if char not in input_characters:\n",
        "      input_characters.add(char)\n",
        "  # Get unique characters from target text\n",
        "  for char in target_text:\n",
        "    if char not in target_characters:\n",
        "      target_characters.add(char)"
      ],
      "metadata": {
        "id": "JDM5qqVNQ7xy"
      },
      "execution_count": 4,
      "outputs": []
    },
    {
      "cell_type": "markdown",
      "source": [
        "We have now seperated the input text and target text. We also have the unique characters used in input and target text. Now, we sort the input and target characters and get the length of the encoder and decoder tokens. We alsofind the maximum size of the input and target texts."
      ],
      "metadata": {
        "id": "RmTxSd7eS5jV"
      }
    },
    {
      "cell_type": "code",
      "source": [
        "input_characters = sorted(list(input_characters))\n",
        "target_characters = sorted(list(target_characters))\n",
        "num_encoder_tokens = len(input_characters)\n",
        "num_decoder_tokens = len(target_characters)\n",
        "max_encoder_seq_length = max([len(txt) for txt in input_texts])\n",
        "max_decoder_seq_length = max([len(txt) for txt in target_texts])\n",
        "\n",
        "print(\"Number of samples:\", len(input_texts))\n",
        "print(\"Number of unique input tokens:\", num_encoder_tokens)\n",
        "print(\"Number of unique output tokens:\", num_decoder_tokens)\n",
        "print(\"Max sequence length for inputs:\", max_encoder_seq_length)\n",
        "print(\"Max sequence length for outputs:\", max_decoder_seq_length)"
      ],
      "metadata": {
        "colab": {
          "base_uri": "https://localhost:8080/"
        },
        "id": "ENzV5YS4V3rp",
        "outputId": "8abdc7ef-26f6-498c-99ce-d7140983a4e7"
      },
      "execution_count": 26,
      "outputs": [
        {
          "output_type": "stream",
          "name": "stdout",
          "text": [
            "Number of samples: 10000\n",
            "Number of unique input tokens: 71\n",
            "Number of unique output tokens: 85\n",
            "Max sequence length for inputs: 15\n",
            "Max sequence length for outputs: 45\n"
          ]
        }
      ]
    },
    {
      "cell_type": "markdown",
      "source": [
        "Since machine learning models can only handle numeric data, we need to convert the characters to numerical values. We will create a dictionary mapping each character to an index. The key will be the character and the value its index."
      ],
      "metadata": {
        "id": "BFrghWbQXI17"
      }
    },
    {
      "cell_type": "code",
      "source": [
        "input_token_index = dict([(char, i) for i, char in enumerate(input_characters)])\n",
        "target_token_index = dict([(char, i) for i, char in enumerate(target_characters)])"
      ],
      "metadata": {
        "id": "xs1hUwAvXVj-"
      },
      "execution_count": 27,
      "outputs": []
    },
    {
      "cell_type": "code",
      "source": [
        "input_token_index"
      ],
      "metadata": {
        "colab": {
          "base_uri": "https://localhost:8080/"
        },
        "id": "iCOKDCrBYfx2",
        "outputId": "f3dedfe1-6267-4127-8c10-9f9ab4583ce1"
      },
      "execution_count": 29,
      "outputs": [
        {
          "output_type": "execute_result",
          "data": {
            "text/plain": [
              "{' ': 0,\n",
              " '!': 1,\n",
              " '\"': 2,\n",
              " '$': 3,\n",
              " '%': 4,\n",
              " \"'\": 5,\n",
              " ',': 6,\n",
              " '-': 7,\n",
              " '.': 8,\n",
              " '0': 9,\n",
              " '1': 10,\n",
              " '2': 11,\n",
              " '3': 12,\n",
              " '4': 13,\n",
              " '5': 14,\n",
              " '6': 15,\n",
              " '7': 16,\n",
              " '8': 17,\n",
              " '9': 18,\n",
              " ':': 19,\n",
              " '?': 20,\n",
              " 'A': 21,\n",
              " 'B': 22,\n",
              " 'C': 23,\n",
              " 'D': 24,\n",
              " 'E': 25,\n",
              " 'F': 26,\n",
              " 'G': 27,\n",
              " 'H': 28,\n",
              " 'I': 29,\n",
              " 'J': 30,\n",
              " 'K': 31,\n",
              " 'L': 32,\n",
              " 'M': 33,\n",
              " 'N': 34,\n",
              " 'O': 35,\n",
              " 'P': 36,\n",
              " 'Q': 37,\n",
              " 'R': 38,\n",
              " 'S': 39,\n",
              " 'T': 40,\n",
              " 'U': 41,\n",
              " 'V': 42,\n",
              " 'W': 43,\n",
              " 'Y': 44,\n",
              " 'a': 45,\n",
              " 'b': 46,\n",
              " 'c': 47,\n",
              " 'd': 48,\n",
              " 'e': 49,\n",
              " 'f': 50,\n",
              " 'g': 51,\n",
              " 'h': 52,\n",
              " 'i': 53,\n",
              " 'j': 54,\n",
              " 'k': 55,\n",
              " 'l': 56,\n",
              " 'm': 57,\n",
              " 'n': 58,\n",
              " 'o': 59,\n",
              " 'p': 60,\n",
              " 'q': 61,\n",
              " 'r': 62,\n",
              " 's': 63,\n",
              " 't': 64,\n",
              " 'u': 65,\n",
              " 'v': 66,\n",
              " 'w': 67,\n",
              " 'x': 68,\n",
              " 'y': 69,\n",
              " 'z': 70}"
            ]
          },
          "metadata": {},
          "execution_count": 29
        }
      ]
    },
    {
      "cell_type": "code",
      "source": [
        "target_token_index"
      ],
      "metadata": {
        "colab": {
          "base_uri": "https://localhost:8080/"
        },
        "id": "ES9R_7awZqI4",
        "outputId": "903b0805-8424-41a0-80bf-53ca8d93d998"
      },
      "execution_count": 30,
      "outputs": [
        {
          "output_type": "execute_result",
          "data": {
            "text/plain": [
              "{'\\t': 0,\n",
              " '\\n': 1,\n",
              " ' ': 2,\n",
              " '!': 3,\n",
              " '$': 4,\n",
              " '%': 5,\n",
              " \"'\": 6,\n",
              " ',': 7,\n",
              " '-': 8,\n",
              " '.': 9,\n",
              " '0': 10,\n",
              " '1': 11,\n",
              " '2': 12,\n",
              " '3': 13,\n",
              " '4': 14,\n",
              " '5': 15,\n",
              " '6': 16,\n",
              " '7': 17,\n",
              " '8': 18,\n",
              " '9': 19,\n",
              " ':': 20,\n",
              " '?': 21,\n",
              " 'A': 22,\n",
              " 'B': 23,\n",
              " 'C': 24,\n",
              " 'D': 25,\n",
              " 'E': 26,\n",
              " 'F': 27,\n",
              " 'G': 28,\n",
              " 'H': 29,\n",
              " 'I': 30,\n",
              " 'J': 31,\n",
              " 'K': 32,\n",
              " 'L': 33,\n",
              " 'M': 34,\n",
              " 'N': 35,\n",
              " 'O': 36,\n",
              " 'P': 37,\n",
              " 'Q': 38,\n",
              " 'R': 39,\n",
              " 'S': 40,\n",
              " 'T': 41,\n",
              " 'U': 42,\n",
              " 'V': 43,\n",
              " 'W': 44,\n",
              " 'Y': 45,\n",
              " 'Z': 46,\n",
              " 'a': 47,\n",
              " 'b': 48,\n",
              " 'c': 49,\n",
              " 'd': 50,\n",
              " 'e': 51,\n",
              " 'f': 52,\n",
              " 'g': 53,\n",
              " 'h': 54,\n",
              " 'i': 55,\n",
              " 'j': 56,\n",
              " 'k': 57,\n",
              " 'l': 58,\n",
              " 'm': 59,\n",
              " 'n': 60,\n",
              " 'o': 61,\n",
              " 'p': 62,\n",
              " 'q': 63,\n",
              " 'r': 64,\n",
              " 's': 65,\n",
              " 't': 66,\n",
              " 'u': 67,\n",
              " 'v': 68,\n",
              " 'w': 69,\n",
              " 'x': 70,\n",
              " 'y': 71,\n",
              " 'z': 72,\n",
              " '\\xa0': 73,\n",
              " 'Ä': 74,\n",
              " 'Ö': 75,\n",
              " 'Ü': 76,\n",
              " 'ß': 77,\n",
              " 'ä': 78,\n",
              " 'ö': 79,\n",
              " 'ü': 80,\n",
              " '’': 81,\n",
              " '“': 82,\n",
              " '„': 83,\n",
              " '\\u202f': 84}"
            ]
          },
          "metadata": {},
          "execution_count": 30
        }
      ]
    },
    {
      "cell_type": "markdown",
      "source": [
        "We now turn the sentences into three different NumPy arrays. The arrays will have three dimensions:\n",
        "* The first dimension denotes the number of samples.\n",
        "* The second dimension shows max length of input or target text.\n",
        "* The third dimension denotes the number of unique characters.\n",
        "\n",
        "The elements of each matrix will be made up of 0 and 1. \n",
        "* 0 if character does not show up in the text.\n",
        "* 1 if character does show up in the text."
      ],
      "metadata": {
        "id": "IfEYNAhQaxKx"
      }
    },
    {
      "cell_type": "code",
      "source": [
        "# 3D Matrix\n",
        "encoder_input_data = np.zeros((len(input_texts), max_encoder_seq_length, num_encoder_tokens), dtype=\"float32\")\n",
        "decoder_input_data = np.zeros((len(target_texts), max_decoder_seq_length, num_decoder_tokens), dtype=\"float32\")\n",
        "decoder_target_data = np.zeros((len(target_texts), max_decoder_seq_length, num_decoder_tokens),dtype=\"float32\")\n",
        "# Convert text to numerical values\n",
        "for i, (input_text, target_text) in enumerate(zip(input_texts, target_texts)):\n",
        "  for t, char in enumerate(input_text):\n",
        "    encoder_input_data[i, t, input_token_index[char]] = 1.0\n",
        "  # Pad remaining space mapped to 1\n",
        "  encoder_input_data[i, t + 1 :, input_token_index[\" \"]] = 1.0\n",
        "  for t, char in enumerate(target_text):\n",
        "    decoder_input_data[i, t, target_token_index[char]] = 1.0\n",
        "    if t > 0:\n",
        "      decoder_target_data[i, t-1, target_token_index[char]] = 1.0\n",
        "  decoder_input_data[i, t+1 :, target_token_index[\" \"]] = 1.0\n",
        "  decoder_target_data[i, t:, target_token_index[\" \"]] = 1.0"
      ],
      "metadata": {
        "id": "mVMmHr0oa_fE"
      },
      "execution_count": 52,
      "outputs": []
    },
    {
      "cell_type": "markdown",
      "source": [
        "## Build the Model\n",
        "\n",
        "The RNN model has two layers:\n",
        "\n",
        "* A LSTM encoder layer\n",
        "* A LSTM decoder layer\n",
        "\n",
        "The encoder layer processes the input text and returns its own internal state. The hidden states are the \"context\" of the decoder and the output of the encoder is discarded.\n",
        "\n",
        "The decoder layer is trained to predict the next characters of the target sequence given previous characters. This model uses \"teacher forcing\" which turns the target sequence into the same sequence but offset by one timestep in the future. "
      ],
      "metadata": {
        "id": "mIJ9CGeWdc4e"
      }
    },
    {
      "cell_type": "code",
      "source": [
        "## Encoder Layers\n",
        "# Input sequence\n",
        "encoder_inputs = keras.Input(shape=(None, num_encoder_tokens))\n",
        "# Define LSTM\n",
        "encoder = keras.layers.LSTM(latent_dim, return_state=True)\n",
        "# Apply LSTM\n",
        "encoder_outputs, state_h, state_c = encoder(encoder_inputs)\n",
        "# Discard outputs and keep states\n",
        "encoder_states = [state_h, state_c]\n",
        "\n",
        "## Decoder Layers\n",
        "# Decoder Input\n",
        "decoder_inputs = keras.Input(shape=(None, num_decoder_tokens))\n",
        "# LSTM\n",
        "decoder_lstm = keras.layers.LSTM(latent_dim, return_sequences=True, return_state=True)\n",
        "# Set up decoder using encoder_states as initial state\n",
        "decoder_outputs, _, _ = decoder_lstm(decoder_inputs, initial_state=encoder_states)\n",
        "# Forecast decoder outputs\n",
        "decoder_dense = keras.layers.Dense(num_decoder_tokens, activation=\"softmax\")\n",
        "decoder_outputs = decoder_dense(decoder_outputs)\n",
        "\n",
        "# Define model\n",
        "model = keras.Model([encoder_inputs, decoder_inputs], decoder_outputs)"
      ],
      "metadata": {
        "id": "vtsaO6bOdMXH"
      },
      "execution_count": 56,
      "outputs": []
    },
    {
      "cell_type": "markdown",
      "source": [
        "## Model Configuration and Training\n",
        "\n",
        "Since this is a multiclass classification problem, we configure the model using \"rmsprop\" optimizer and the \"categorical_crossentropy\" loss function."
      ],
      "metadata": {
        "id": "CzECZRYcf9YE"
      }
    },
    {
      "cell_type": "code",
      "source": [
        "model.compile(optimizer=\"rmsprop\", loss=\"categorical_crossentropy\", metrics=[\"accuracy\"])"
      ],
      "metadata": {
        "id": "e1ukNJwigBEi"
      },
      "execution_count": 57,
      "outputs": []
    },
    {
      "cell_type": "code",
      "source": [
        "from tensorflow.keras.callbacks import EarlyStopping\n",
        "# Early Stopping\n",
        "early_stopping = EarlyStopping(monitor='val_accuracy', patience=5, min_delta=0.001, mode='max')\n",
        "history = model.fit([encoder_input_data, decoder_input_data], \n",
        "                     decoder_target_data, \n",
        "                     batch_size=batch_size,\n",
        "                     epochs=epochs,\n",
        "                     validation_split=0.2,\n",
        "                     callbacks=[early_stopping],)\n",
        "# Save model\n",
        "model.save(\"s2s\")"
      ],
      "metadata": {
        "colab": {
          "base_uri": "https://localhost:8080/"
        },
        "id": "xaKr5Dh9gp6T",
        "outputId": "2e404a7d-4d19-4d27-e077-98f35a1b7413"
      },
      "execution_count": 58,
      "outputs": [
        {
          "output_type": "stream",
          "name": "stdout",
          "text": [
            "Epoch 1/100\n",
            "125/125 [==============================] - 44s 329ms/step - loss: 1.4824 - accuracy: 0.6457 - val_loss: 1.3437 - val_accuracy: 0.6152\n",
            "Epoch 2/100\n",
            "125/125 [==============================] - 39s 309ms/step - loss: 1.0574 - accuracy: 0.7183 - val_loss: 1.0400 - val_accuracy: 0.7119\n",
            "Epoch 3/100\n",
            "125/125 [==============================] - 39s 316ms/step - loss: 0.8431 - accuracy: 0.7678 - val_loss: 0.8835 - val_accuracy: 0.7549\n",
            "Epoch 4/100\n",
            "125/125 [==============================] - 41s 331ms/step - loss: 0.7315 - accuracy: 0.7919 - val_loss: 0.8027 - val_accuracy: 0.7715\n",
            "Epoch 5/100\n",
            "125/125 [==============================] - 39s 314ms/step - loss: 0.6680 - accuracy: 0.8080 - val_loss: 0.7556 - val_accuracy: 0.7867\n",
            "Epoch 6/100\n",
            "125/125 [==============================] - 39s 309ms/step - loss: 0.6219 - accuracy: 0.8201 - val_loss: 0.7185 - val_accuracy: 0.7957\n",
            "Epoch 7/100\n",
            "125/125 [==============================] - 38s 308ms/step - loss: 0.5846 - accuracy: 0.8306 - val_loss: 0.6894 - val_accuracy: 0.8052\n",
            "Epoch 8/100\n",
            "125/125 [==============================] - 38s 306ms/step - loss: 0.5540 - accuracy: 0.8391 - val_loss: 0.6648 - val_accuracy: 0.8111\n",
            "Epoch 9/100\n",
            "125/125 [==============================] - 38s 307ms/step - loss: 0.5284 - accuracy: 0.8462 - val_loss: 0.6535 - val_accuracy: 0.8150\n",
            "Epoch 10/100\n",
            "125/125 [==============================] - 39s 313ms/step - loss: 0.5054 - accuracy: 0.8528 - val_loss: 0.6318 - val_accuracy: 0.8208\n",
            "Epoch 11/100\n",
            "125/125 [==============================] - 38s 306ms/step - loss: 0.4859 - accuracy: 0.8586 - val_loss: 0.6157 - val_accuracy: 0.8255\n",
            "Epoch 12/100\n",
            "125/125 [==============================] - 38s 307ms/step - loss: 0.4667 - accuracy: 0.8645 - val_loss: 0.6127 - val_accuracy: 0.8245\n",
            "Epoch 13/100\n",
            "125/125 [==============================] - 38s 304ms/step - loss: 0.4490 - accuracy: 0.8691 - val_loss: 0.5993 - val_accuracy: 0.8288\n",
            "Epoch 14/100\n",
            "125/125 [==============================] - 38s 306ms/step - loss: 0.4329 - accuracy: 0.8740 - val_loss: 0.5932 - val_accuracy: 0.8325\n",
            "Epoch 15/100\n",
            "125/125 [==============================] - 39s 308ms/step - loss: 0.4179 - accuracy: 0.8784 - val_loss: 0.5818 - val_accuracy: 0.8344\n",
            "Epoch 16/100\n",
            "125/125 [==============================] - 38s 307ms/step - loss: 0.4037 - accuracy: 0.8823 - val_loss: 0.5762 - val_accuracy: 0.8378\n",
            "Epoch 17/100\n",
            "125/125 [==============================] - 39s 314ms/step - loss: 0.3909 - accuracy: 0.8861 - val_loss: 0.5733 - val_accuracy: 0.8396\n",
            "Epoch 18/100\n",
            "125/125 [==============================] - 38s 305ms/step - loss: 0.3786 - accuracy: 0.8898 - val_loss: 0.5715 - val_accuracy: 0.8388\n",
            "Epoch 19/100\n",
            "125/125 [==============================] - 38s 306ms/step - loss: 0.3654 - accuracy: 0.8933 - val_loss: 0.5687 - val_accuracy: 0.8412\n",
            "Epoch 20/100\n",
            "125/125 [==============================] - 38s 306ms/step - loss: 0.3538 - accuracy: 0.8968 - val_loss: 0.5630 - val_accuracy: 0.8437\n",
            "Epoch 21/100\n",
            "125/125 [==============================] - 38s 305ms/step - loss: 0.3425 - accuracy: 0.9001 - val_loss: 0.5642 - val_accuracy: 0.8435\n",
            "Epoch 22/100\n",
            "125/125 [==============================] - 38s 307ms/step - loss: 0.3315 - accuracy: 0.9032 - val_loss: 0.5621 - val_accuracy: 0.8451\n",
            "Epoch 23/100\n",
            "125/125 [==============================] - 38s 306ms/step - loss: 0.3209 - accuracy: 0.9064 - val_loss: 0.5626 - val_accuracy: 0.8456\n",
            "Epoch 24/100\n",
            "125/125 [==============================] - 39s 315ms/step - loss: 0.3113 - accuracy: 0.9092 - val_loss: 0.5643 - val_accuracy: 0.8455\n",
            "Epoch 25/100\n",
            "125/125 [==============================] - 38s 305ms/step - loss: 0.3009 - accuracy: 0.9126 - val_loss: 0.5641 - val_accuracy: 0.8474\n",
            "Epoch 26/100\n",
            "125/125 [==============================] - 38s 304ms/step - loss: 0.2922 - accuracy: 0.9151 - val_loss: 0.5611 - val_accuracy: 0.8496\n",
            "Epoch 27/100\n",
            "125/125 [==============================] - 38s 304ms/step - loss: 0.2829 - accuracy: 0.9178 - val_loss: 0.5686 - val_accuracy: 0.8480\n",
            "Epoch 28/100\n",
            "125/125 [==============================] - 38s 302ms/step - loss: 0.2740 - accuracy: 0.9204 - val_loss: 0.5683 - val_accuracy: 0.8492\n",
            "Epoch 29/100\n",
            "125/125 [==============================] - 38s 302ms/step - loss: 0.2660 - accuracy: 0.9226 - val_loss: 0.5757 - val_accuracy: 0.8491\n",
            "Epoch 30/100\n",
            "125/125 [==============================] - 38s 306ms/step - loss: 0.2583 - accuracy: 0.9246 - val_loss: 0.5726 - val_accuracy: 0.8503\n",
            "Epoch 31/100\n",
            "125/125 [==============================] - 39s 311ms/step - loss: 0.2501 - accuracy: 0.9272 - val_loss: 0.5865 - val_accuracy: 0.8481\n"
          ]
        },
        {
          "output_type": "stream",
          "name": "stderr",
          "text": [
            "WARNING:absl:Found untraced functions such as lstm_cell_10_layer_call_fn, lstm_cell_10_layer_call_and_return_conditional_losses, lstm_cell_11_layer_call_fn, lstm_cell_11_layer_call_and_return_conditional_losses while saving (showing 4 of 4). These functions will not be directly callable after loading.\n"
          ]
        },
        {
          "output_type": "stream",
          "name": "stdout",
          "text": [
            "INFO:tensorflow:Assets written to: s2s/assets\n"
          ]
        },
        {
          "output_type": "stream",
          "name": "stderr",
          "text": [
            "INFO:tensorflow:Assets written to: s2s/assets\n",
            "WARNING:absl:<keras.layers.recurrent.LSTMCell object at 0x7f1ce9fc2150> has the same name 'LSTMCell' as a built-in Keras object. Consider renaming <class 'keras.layers.recurrent.LSTMCell'> to avoid naming conflicts when loading with `tf.keras.models.load_model`. If renaming is not possible, pass the object in the `custom_objects` parameter of the load function.\n",
            "WARNING:absl:<keras.layers.recurrent.LSTMCell object at 0x7f1cde7924d0> has the same name 'LSTMCell' as a built-in Keras object. Consider renaming <class 'keras.layers.recurrent.LSTMCell'> to avoid naming conflicts when loading with `tf.keras.models.load_model`. If renaming is not possible, pass the object in the `custom_objects` parameter of the load function.\n"
          ]
        }
      ]
    },
    {
      "cell_type": "markdown",
      "source": [
        "## Model Diagnostics"
      ],
      "metadata": {
        "id": "alDEjaExi347"
      }
    },
    {
      "cell_type": "code",
      "source": [
        "import seaborn as sns\n",
        "import pandas as pd\n",
        "import matplotlib.pyplot as plt\n",
        "train_history = pd.DataFrame(history.history)\n",
        "train_history['epoch'] = history.epoch\n",
        "# Plot train loss\n",
        "sns.lineplot(x='epoch', y ='loss', data =train_history)\n",
        "# Plot validation loss\n",
        "sns.lineplot(x='epoch', y ='val_loss', data =train_history)\n",
        "# Add legends\n",
        "plt.legend(labels=['train_loss', 'val_loss'])"
      ],
      "metadata": {
        "colab": {
          "base_uri": "https://localhost:8080/",
          "height": 297
        },
        "id": "tyiuR8Lsi5WU",
        "outputId": "ed11f30b-c9b7-49d3-e35b-f8d918ce63ac"
      },
      "execution_count": 59,
      "outputs": [
        {
          "output_type": "execute_result",
          "data": {
            "text/plain": [
              "<matplotlib.legend.Legend at 0x7f1cdebe9310>"
            ]
          },
          "metadata": {},
          "execution_count": 59
        },
        {
          "output_type": "display_data",
          "data": {
            "text/plain": [
              "<Figure size 432x288 with 1 Axes>"
            ],
            "image/png": "[encoded data removed]"
          },
          "metadata": {
            "needs_background": "light"
          }
        }
      ]
    },
    {
      "cell_type": "code",
      "source": [
        "sns.lineplot(x='epoch', y ='accuracy', data =train_history)\n",
        "# Plot validation loss\n",
        "sns.lineplot(x='epoch', y ='val_accuracy', data =train_history)\n",
        "# Add legends\n",
        "plt.legend(labels=['train_accuracy', 'val_accuracy'])"
      ],
      "metadata": {
        "colab": {
          "base_uri": "https://localhost:8080/",
          "height": 297
        },
        "id": "pYNISz0Cv49a",
        "outputId": "a0baf8c6-9f77-4f75-c76f-69880dc74261"
      },
      "execution_count": 60,
      "outputs": [
        {
          "output_type": "execute_result",
          "data": {
            "text/plain": [
              "<matplotlib.legend.Legend at 0x7f1ce1199fd0>"
            ]
          },
          "metadata": {},
          "execution_count": 60
        },
        {
          "output_type": "display_data",
          "data": {
            "text/plain": [
              "<Figure size 432x288 with 1 Axes>"
            ],
            "image/png": "[encoded data removed]"
          },
          "metadata": {
            "needs_background": "light"
          }
        }
      ]
    },
    {
      "cell_type": "markdown",
      "source": [
        "## Run Inference\n",
        "\n",
        "To decode unkown inputs, we provide the inputs and correspondsing states. These states contain the context of the text.\n",
        "\n",
        "We look at the model architecture to identify the layers to use in the inference model."
      ],
      "metadata": {
        "id": "rfRXeISDwrcV"
      }
    },
    {
      "cell_type": "code",
      "source": [
        "model.summary()"
      ],
      "metadata": {
        "colab": {
          "base_uri": "https://localhost:8080/"
        },
        "id": "xPVf6Y76w8ya",
        "outputId": "23b27eb3-3f9b-4fed-ef53-dc027b714a73"
      },
      "execution_count": 61,
      "outputs": [
        {
          "output_type": "stream",
          "name": "stdout",
          "text": [
            "Model: \"model_5\"\n",
            "__________________________________________________________________________________________________\n",
            " Layer (type)                   Output Shape         Param #     Connected to                     \n",
            "==================================================================================================\n",
            " input_11 (InputLayer)          [(None, None, 71)]   0           []                               \n",
            "                                                                                                  \n",
            " input_12 (InputLayer)          [(None, None, 85)]   0           []                               \n",
            "                                                                                                  \n",
            " lstm_10 (LSTM)                 [(None, 256),        335872      ['input_11[0][0]']               \n",
            "                                 (None, 256),                                                     \n",
            "                                 (None, 256)]                                                     \n",
            "                                                                                                  \n",
            " lstm_11 (LSTM)                 [(None, None, 256),  350208      ['input_12[0][0]',               \n",
            "                                 (None, 256),                     'lstm_10[0][1]',                \n",
            "                                 (None, 256)]                     'lstm_10[0][2]']                \n",
            "                                                                                                  \n",
            " dense_5 (Dense)                (None, None, 85)     21845       ['lstm_11[0][0]']                \n",
            "                                                                                                  \n",
            "==================================================================================================\n",
            "Total params: 707,925\n",
            "Trainable params: 707,925\n",
            "Non-trainable params: 0\n",
            "__________________________________________________________________________________________________\n"
          ]
        }
      ]
    },
    {
      "cell_type": "code",
      "source": [
        "tf.keras.utils.plot_model(model, show_shapes=True)"
      ],
      "metadata": {
        "colab": {
          "base_uri": "https://localhost:8080/",
          "height": 313
        },
        "id": "iztXOSQxxAki",
        "outputId": "10688fed-ee47-411a-955a-4bae2d3594b3"
      },
      "execution_count": 62,
      "outputs": [
        {
          "output_type": "execute_result",
          "data": {
            "text/plain": [
              "<IPython.core.display.Image object>"
            ],
            "image/png": "[encoded data removed]"
          },
          "metadata": {},
          "execution_count": 62
        }
      ]
    }
  ]
}