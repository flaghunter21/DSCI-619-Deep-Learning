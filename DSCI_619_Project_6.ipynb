{
  "nbformat": 4,
  "nbformat_minor": 0,
  "metadata": {
    "colab": {
      "name": "DSCI 619 Project 6.ipynb",
      "provenance": [],
      "authorship_tag": "ABX9TyPOOSH44Ooou+jSgkySp1YF",
      "include_colab_link": true
    },
    "kernelspec": {
      "name": "python3",
      "display_name": "Python 3"
    },
    "language_info": {
      "name": "python"
    }
  },
  "cells": [
    {
      "cell_type": "markdown",
      "metadata": {
        "id": "view-in-github",
        "colab_type": "text"
      },
      "source": [
        "<a href=\"https://colab.research.google.com/github/flaghunter21/DSCI-619-Deep-Learning/blob/main/DSCI_619_Project_6.ipynb\" target=\"_parent\"><img src=\"https://colab.research.google.com/assets/colab-badge.svg\" alt=\"Open In Colab\"/></a>"
      ]
    },
    {
      "cell_type": "markdown",
      "source": [
        "# DSCI 619 Project 6\n",
        "## Language Translation with sequence to sequence model using RNN\n",
        "\n",
        "This model will use sequence to sequence model "
      ],
      "metadata": {
        "id": "SCC0lNQ9Kz2F"
      }
    },
    {
      "cell_type": "code",
      "execution_count": null,
      "metadata": {
        "id": "t8ljSSo1uUf9"
      },
      "outputs": [],
      "source": [
        ""
      ]
    }
  ]
}